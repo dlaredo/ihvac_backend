{
 "cells": [
  {
   "cell_type": "code",
   "execution_count": 18,
   "metadata": {},
   "outputs": [
    {
     "data": {
      "text/html": [
       "<div>\n",
       "<style scoped>\n",
       "    .dataframe tbody tr th:only-of-type {\n",
       "        vertical-align: middle;\n",
       "    }\n",
       "\n",
       "    .dataframe tbody tr th {\n",
       "        vertical-align: top;\n",
       "    }\n",
       "\n",
       "    .dataframe thead th {\n",
       "        text-align: right;\n",
       "    }\n",
       "</style>\n",
       "<table border=\"1\" class=\"dataframe\">\n",
       "  <thead>\n",
       "    <tr style=\"text-align: right;\">\n",
       "      <th></th>\n",
       "      <th>Control Program</th>\n",
       "      <th>Type</th>\n",
       "      <th>Object ID</th>\n",
       "      <th>Device ID</th>\n",
       "      <th>Object Name</th>\n",
       "      <th>Path</th>\n",
       "    </tr>\n",
       "  </thead>\n",
       "  <tbody>\n",
       "  </tbody>\n",
       "</table>\n",
       "</div>"
      ],
      "text/plain": [
       "Empty DataFrame\n",
       "Columns: [Control Program, Type, Object ID, Device ID, Object Name, Path]\n",
       "Index: []"
      ]
     },
     "metadata": {},
     "output_type": "display_data"
    }
   ],
   "source": [
    "import pandas\n",
    "from IPython.display import display, HTML\n",
    "\n",
    "devId = 220602\n",
    "componentPath = '#ahu_4a_return'\n",
    "point = '1610_power_kw'\n",
    "\n",
    "bacnetPointsFile = \"../../csv_files/pointListMappings/pointListBacnetFull.csv\"\n",
    "devComponentsDF = pandas.read_csv(bacnetPointsFile)\n",
    "\n",
    "devComponentResult = devComponentsDF.loc[ (devComponentsDF['Device ID'] == 'DEV:'+str(devId)) & \n",
    "                                         (devComponentsDF['Path'].str.contains(componentPath)) & \n",
    "                                         (devComponentsDF['Name'] == point), \n",
    "                                         ['Control Program', 'Type', 'Object ID', 'Device ID', 'Object Name', 'Path'] ]\n",
    "\n",
    "devComponentResult = devComponentsDF.loc[ (devComponentsDF['Device ID'] == 'DEV:'+str(devId)) & \n",
    "                                         (devComponentsDF['Path'].str.contains(componentPath)), \n",
    "                                         ['Control Program', 'Type', 'Object ID', 'Device ID', 'Object Name', 'Path'] ]\n",
    "\n",
    "display(devComponentResult.head())"
   ]
  },
  {
   "cell_type": "code",
   "execution_count": null,
   "metadata": {
    "collapsed": true
   },
   "outputs": [],
   "source": []
  }
 ],
 "metadata": {
  "kernelspec": {
   "display_name": "Python 3",
   "language": "python",
   "name": "python3"
  },
  "language_info": {
   "codemirror_mode": {
    "name": "ipython",
    "version": 3
   },
   "file_extension": ".py",
   "mimetype": "text/x-python",
   "name": "python",
   "nbconvert_exporter": "python",
   "pygments_lexer": "ipython3",
   "version": "3.6.1"
  }
 },
 "nbformat": 4,
 "nbformat_minor": 2
}
